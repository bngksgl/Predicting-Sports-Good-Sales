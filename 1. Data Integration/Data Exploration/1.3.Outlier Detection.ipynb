{
 "cells": [
  {
   "cell_type": "markdown",
   "metadata": {},
   "source": [
    "We examined the outliers, and decided not to do anything"
   ]
  },
  {
   "cell_type": "code",
   "execution_count": 15,
   "metadata": {
    "collapsed": true
   },
   "outputs": [],
   "source": [
    "import pandas as pd\n",
    "import numpy as np\n",
    "import matplotlib.pyplot as plt\n",
    "from pylab import rcParams\n",
    "import seaborn as sb\n",
    "import statistics\n",
    "import plotly.plotly as py"
   ]
  },
  {
   "cell_type": "code",
   "execution_count": 2,
   "metadata": {
    "collapsed": true
   },
   "outputs": [],
   "source": [
    "items=pd.read_csv('items.csv',sep='|')\n",
    "prices=pd.read_csv('prices.csv',sep='|')\n",
    "train=pd.read_csv('train.csv',sep='|')"
   ]
  },
  {
   "cell_type": "code",
   "execution_count": 3,
   "metadata": {},
   "outputs": [
    {
     "data": {
      "text/html": [
       "<div>\n",
       "<style scoped>\n",
       "    .dataframe tbody tr th:only-of-type {\n",
       "        vertical-align: middle;\n",
       "    }\n",
       "\n",
       "    .dataframe tbody tr th {\n",
       "        vertical-align: top;\n",
       "    }\n",
       "\n",
       "    .dataframe thead th {\n",
       "        text-align: right;\n",
       "    }\n",
       "</style>\n",
       "<table border=\"1\" class=\"dataframe\">\n",
       "  <thead>\n",
       "    <tr style=\"text-align: right;\">\n",
       "      <th></th>\n",
       "      <th>pid</th>\n",
       "      <th>size</th>\n",
       "      <th>color</th>\n",
       "      <th>brand</th>\n",
       "      <th>rrp</th>\n",
       "      <th>mainCategory</th>\n",
       "      <th>category</th>\n",
       "      <th>subCategory</th>\n",
       "      <th>stock</th>\n",
       "      <th>releaseDate</th>\n",
       "    </tr>\n",
       "  </thead>\n",
       "  <tbody>\n",
       "    <tr>\n",
       "      <th>0</th>\n",
       "      <td>10000</td>\n",
       "      <td>XL ( 158-170 )</td>\n",
       "      <td>gruen</td>\n",
       "      <td>Nike</td>\n",
       "      <td>25.33</td>\n",
       "      <td>1</td>\n",
       "      <td>7</td>\n",
       "      <td>25.0</td>\n",
       "      <td>1</td>\n",
       "      <td>2017-10-01</td>\n",
       "    </tr>\n",
       "    <tr>\n",
       "      <th>1</th>\n",
       "      <td>10001</td>\n",
       "      <td>L</td>\n",
       "      <td>schwarz</td>\n",
       "      <td>Jako</td>\n",
       "      <td>38.03</td>\n",
       "      <td>1</td>\n",
       "      <td>7</td>\n",
       "      <td>16.0</td>\n",
       "      <td>1</td>\n",
       "      <td>2017-10-01</td>\n",
       "    </tr>\n",
       "    <tr>\n",
       "      <th>2</th>\n",
       "      <td>10003</td>\n",
       "      <td>3 (35-38 )</td>\n",
       "      <td>weiss</td>\n",
       "      <td>Jako</td>\n",
       "      <td>12.63</td>\n",
       "      <td>1</td>\n",
       "      <td>7</td>\n",
       "      <td>13.0</td>\n",
       "      <td>1</td>\n",
       "      <td>2017-10-01</td>\n",
       "    </tr>\n",
       "    <tr>\n",
       "      <th>3</th>\n",
       "      <td>10003</td>\n",
       "      <td>4 ( 39-42 )</td>\n",
       "      <td>weiss</td>\n",
       "      <td>Jako</td>\n",
       "      <td>12.63</td>\n",
       "      <td>1</td>\n",
       "      <td>7</td>\n",
       "      <td>13.0</td>\n",
       "      <td>1</td>\n",
       "      <td>2017-10-01</td>\n",
       "    </tr>\n",
       "    <tr>\n",
       "      <th>4</th>\n",
       "      <td>10003</td>\n",
       "      <td>5 ( 43-46 )</td>\n",
       "      <td>weiss</td>\n",
       "      <td>Jako</td>\n",
       "      <td>12.63</td>\n",
       "      <td>1</td>\n",
       "      <td>7</td>\n",
       "      <td>13.0</td>\n",
       "      <td>1</td>\n",
       "      <td>2017-10-01</td>\n",
       "    </tr>\n",
       "  </tbody>\n",
       "</table>\n",
       "</div>"
      ],
      "text/plain": [
       "     pid            size    color brand    rrp  mainCategory  category  \\\n",
       "0  10000  XL ( 158-170 )    gruen  Nike  25.33             1         7   \n",
       "1  10001               L  schwarz  Jako  38.03             1         7   \n",
       "2  10003      3 (35-38 )    weiss  Jako  12.63             1         7   \n",
       "3  10003     4 ( 39-42 )    weiss  Jako  12.63             1         7   \n",
       "4  10003     5 ( 43-46 )    weiss  Jako  12.63             1         7   \n",
       "\n",
       "   subCategory  stock releaseDate  \n",
       "0         25.0      1  2017-10-01  \n",
       "1         16.0      1  2017-10-01  \n",
       "2         13.0      1  2017-10-01  \n",
       "3         13.0      1  2017-10-01  \n",
       "4         13.0      1  2017-10-01  "
      ]
     },
     "execution_count": 3,
     "metadata": {},
     "output_type": "execute_result"
    }
   ],
   "source": [
    "items.head()"
   ]
  },
  {
   "cell_type": "code",
   "execution_count": 4,
   "metadata": {},
   "outputs": [
    {
     "data": {
      "image/png": "[encoded data removed]",
      "text/plain": [
       "<matplotlib.figure.Figure at 0x2af5b8b3320>"
      ]
     },
     "metadata": {},
     "output_type": "display_data"
    }
   ],
   "source": [
    "self = [0,15,30,45,60,75,90,105, 120, 135, 150, 165, 180, 195, 210, 225,240,255 , 270, 285, 300, 315,330,345,360,375,390,405,420,435,450,465,480,495]\n",
    "plt.hist(items['rrp'], bins = self)\n",
    "plt.show()"
   ]
  },
  {
   "cell_type": "code",
   "execution_count": 27,
   "metadata": {},
   "outputs": [
    {
     "data": {
      "image/png": "[encoded data removed]",
      "text/plain": [
       "<matplotlib.figure.Figure at 0x2af5b506748>"
      ]
     },
     "metadata": {},
     "output_type": "display_data"
    },
    {
     "data": {
      "image/png": "[encoded data removed]",
      "text/plain": [
       "<matplotlib.figure.Figure at 0x2af5c426fd0>"
      ]
     },
     "metadata": {},
     "output_type": "display_data"
    }
   ],
   "source": [
    "self = [0,15,30,45,60,75,90,105, 120, 135, 150, 165, 180, 195, 210, 225,240,255 , 270, 285, 300, 315,330,345,360,375,390,405,420,435,450,465,480,495]\n",
    "plt.hist(items['rrp'], bins = self)\n",
    "plt.show()"
   ]
  },
  {
   "cell_type": "code",
   "execution_count": 40,
   "metadata": {
    "collapsed": true
   },
   "outputs": [],
   "source": [
    "# Standard Deviation "
   ]
  },
  {
   "cell_type": "code",
   "execution_count": 5,
   "metadata": {},
   "outputs": [
    {
     "name": "stdout",
     "output_type": "stream",
     "text": [
      "147.16062652761437\n"
     ]
    }
   ],
   "source": [
    "elements = np.array(self)\n",
    "\n",
    "mean = np.mean(elements, axis=0)\n",
    "sd = np.std(elements, axis=0)\n",
    "\n",
    "final_list = [x for x in self if (x > mean - 2 * sd)]\n",
    "final_list = [x for x in final_list if (x < mean + 2 * sd)]\n",
    "print(sd)"
   ]
  },
  {
   "cell_type": "code",
   "execution_count": null,
   "metadata": {
    "collapsed": true
   },
   "outputs": [],
   "source": [
    "# Threashold>400 "
   ]
  },
  {
   "cell_type": "code",
   "execution_count": 29,
   "metadata": {},
   "outputs": [
    {
     "name": "stdout",
     "output_type": "stream",
     "text": [
      "63\n"
     ]
    }
   ],
   "source": [
    "outlier = items[(items.rrp > 400)]\n",
    "print (len(outlier))"
   ]
  },
  {
   "cell_type": "code",
   "execution_count": null,
   "metadata": {
    "collapsed": true
   },
   "outputs": [],
   "source": [
    "# Mean "
   ]
  },
  {
   "cell_type": "code",
   "execution_count": 41,
   "metadata": {},
   "outputs": [
    {
     "name": "stdout",
     "output_type": "stream",
     "text": [
      "247.5\n"
     ]
    }
   ],
   "source": [
    "elements = np.array(self)\n",
    "\n",
    "mean = np.mean(elements, axis=0)\n",
    "sd = np.std(elements, axis=0)\n",
    "\n",
    "final_list = [x for x in self if (x > mean - 2 * sd)]\n",
    "final_list = [x for x in final_list if (x < mean + 2 * sd)]\n",
    "print(mean)"
   ]
  },
  {
   "cell_type": "code",
   "execution_count": 30,
   "metadata": {},
   "outputs": [
    {
     "data": {
      "image/png": "[encoded data removed]",
      "text/plain": [
       "<matplotlib.figure.Figure at 0x2af5c7a56a0>"
      ]
     },
     "metadata": {},
     "output_type": "display_data"
    }
   ],
   "source": [
    "self = [0,15,30,45,60,75,90,105, 120, 135, 150, 165, 180, 195, 210, 225,240,255 , 270, 285, 300, 315,330,345,360,375,390,405,420,435,450,465,480,495]\n",
    "plt.hist(items['stock'], bins = self)\n",
    "plt.show()"
   ]
  },
  {
   "cell_type": "code",
   "execution_count": 31,
   "metadata": {},
   "outputs": [
    {
     "data": {
      "text/html": [
       "<div>\n",
       "<style scoped>\n",
       "    .dataframe tbody tr th:only-of-type {\n",
       "        vertical-align: middle;\n",
       "    }\n",
       "\n",
       "    .dataframe tbody tr th {\n",
       "        vertical-align: top;\n",
       "    }\n",
       "\n",
       "    .dataframe thead th {\n",
       "        text-align: right;\n",
       "    }\n",
       "</style>\n",
       "<table border=\"1\" class=\"dataframe\">\n",
       "  <thead>\n",
       "    <tr style=\"text-align: right;\">\n",
       "      <th></th>\n",
       "      <th>pid</th>\n",
       "      <th>size</th>\n",
       "      <th>color</th>\n",
       "      <th>brand</th>\n",
       "      <th>rrp</th>\n",
       "      <th>mainCategory</th>\n",
       "      <th>category</th>\n",
       "      <th>subCategory</th>\n",
       "      <th>stock</th>\n",
       "      <th>releaseDate</th>\n",
       "    </tr>\n",
       "  </thead>\n",
       "  <tbody>\n",
       "    <tr>\n",
       "      <th>49</th>\n",
       "      <td>10065</td>\n",
       "      <td>4 ( 43-45 )</td>\n",
       "      <td>blau</td>\n",
       "      <td>adidas</td>\n",
       "      <td>8.82</td>\n",
       "      <td>1</td>\n",
       "      <td>7</td>\n",
       "      <td>12.0</td>\n",
       "      <td>31</td>\n",
       "      <td>2017-10-01</td>\n",
       "    </tr>\n",
       "    <tr>\n",
       "      <th>250</th>\n",
       "      <td>10306</td>\n",
       "      <td>L ( 42-46 )</td>\n",
       "      <td>blau</td>\n",
       "      <td>Nike</td>\n",
       "      <td>12.63</td>\n",
       "      <td>1</td>\n",
       "      <td>7</td>\n",
       "      <td>13.0</td>\n",
       "      <td>35</td>\n",
       "      <td>2017-10-01</td>\n",
       "    </tr>\n",
       "    <tr>\n",
       "      <th>262</th>\n",
       "      <td>10312</td>\n",
       "      <td>43 1/3</td>\n",
       "      <td>schwarz</td>\n",
       "      <td>adidas</td>\n",
       "      <td>317.43</td>\n",
       "      <td>1</td>\n",
       "      <td>2</td>\n",
       "      <td>3.0</td>\n",
       "      <td>44</td>\n",
       "      <td>2017-10-01</td>\n",
       "    </tr>\n",
       "    <tr>\n",
       "      <th>264</th>\n",
       "      <td>10312</td>\n",
       "      <td>44 2/3</td>\n",
       "      <td>schwarz</td>\n",
       "      <td>adidas</td>\n",
       "      <td>317.43</td>\n",
       "      <td>1</td>\n",
       "      <td>2</td>\n",
       "      <td>3.0</td>\n",
       "      <td>23</td>\n",
       "      <td>2017-10-01</td>\n",
       "    </tr>\n",
       "    <tr>\n",
       "      <th>265</th>\n",
       "      <td>10312</td>\n",
       "      <td>45 1/3</td>\n",
       "      <td>schwarz</td>\n",
       "      <td>adidas</td>\n",
       "      <td>317.43</td>\n",
       "      <td>1</td>\n",
       "      <td>2</td>\n",
       "      <td>3.0</td>\n",
       "      <td>24</td>\n",
       "      <td>2017-10-01</td>\n",
       "    </tr>\n",
       "  </tbody>\n",
       "</table>\n",
       "</div>"
      ],
      "text/plain": [
       "       pid         size    color   brand     rrp  mainCategory  category  \\\n",
       "49   10065  4 ( 43-45 )     blau  adidas    8.82             1         7   \n",
       "250  10306  L ( 42-46 )     blau    Nike   12.63             1         7   \n",
       "262  10312       43 1/3  schwarz  adidas  317.43             1         2   \n",
       "264  10312       44 2/3  schwarz  adidas  317.43             1         2   \n",
       "265  10312       45 1/3  schwarz  adidas  317.43             1         2   \n",
       "\n",
       "     subCategory  stock releaseDate  \n",
       "49          12.0     31  2017-10-01  \n",
       "250         13.0     35  2017-10-01  \n",
       "262          3.0     44  2017-10-01  \n",
       "264          3.0     23  2017-10-01  \n",
       "265          3.0     24  2017-10-01  "
      ]
     },
     "execution_count": 31,
     "metadata": {},
     "output_type": "execute_result"
    }
   ],
   "source": [
    "outlier = items[(items.stock > 20)]\n",
    "outlier.head()"
   ]
  },
  {
   "cell_type": "code",
   "execution_count": 32,
   "metadata": {},
   "outputs": [
    {
     "data": {
      "image/png": "[encoded data removed]",
      "text/plain": [
       "<matplotlib.figure.Figure at 0x2af5c8a4278>"
      ]
     },
     "metadata": {},
     "output_type": "display_data"
    }
   ],
   "source": [
    "self = [0,15,30,45,60,75,90,105, 120, 135, 150, 165, 180, 195, 210, 225,240,255 , 270, 285, 300, 315,330,345,360,375,390,405,420,435,450,465,480,495]\n",
    "plt.hist(train['units'], bins = self)\n",
    "plt.show()"
   ]
  },
  {
   "cell_type": "code",
   "execution_count": 33,
   "metadata": {},
   "outputs": [
    {
     "data": {
      "text/html": [
       "<div>\n",
       "<style scoped>\n",
       "    .dataframe tbody tr th:only-of-type {\n",
       "        vertical-align: middle;\n",
       "    }\n",
       "\n",
       "    .dataframe tbody tr th {\n",
       "        vertical-align: top;\n",
       "    }\n",
       "\n",
       "    .dataframe thead th {\n",
       "        text-align: right;\n",
       "    }\n",
       "</style>\n",
       "<table border=\"1\" class=\"dataframe\">\n",
       "  <thead>\n",
       "    <tr style=\"text-align: right;\">\n",
       "      <th></th>\n",
       "      <th>date</th>\n",
       "      <th>pid</th>\n",
       "      <th>size</th>\n",
       "      <th>units</th>\n",
       "    </tr>\n",
       "  </thead>\n",
       "  <tbody>\n",
       "    <tr>\n",
       "      <th>18</th>\n",
       "      <td>2017-10-01</td>\n",
       "      <td>12985</td>\n",
       "      <td>L</td>\n",
       "      <td>26</td>\n",
       "    </tr>\n",
       "    <tr>\n",
       "      <th>139</th>\n",
       "      <td>2017-10-01</td>\n",
       "      <td>20973</td>\n",
       "      <td>5 ( 43-46 )</td>\n",
       "      <td>21</td>\n",
       "    </tr>\n",
       "    <tr>\n",
       "      <th>387</th>\n",
       "      <td>2017-10-01</td>\n",
       "      <td>20579</td>\n",
       "      <td>S</td>\n",
       "      <td>22</td>\n",
       "    </tr>\n",
       "    <tr>\n",
       "      <th>828</th>\n",
       "      <td>2017-10-02</td>\n",
       "      <td>17173</td>\n",
       "      <td>M</td>\n",
       "      <td>28</td>\n",
       "    </tr>\n",
       "    <tr>\n",
       "      <th>867</th>\n",
       "      <td>2017-10-02</td>\n",
       "      <td>20973</td>\n",
       "      <td>5 ( 43-46 )</td>\n",
       "      <td>21</td>\n",
       "    </tr>\n",
       "  </tbody>\n",
       "</table>\n",
       "</div>"
      ],
      "text/plain": [
       "           date    pid         size  units\n",
       "18   2017-10-01  12985            L     26\n",
       "139  2017-10-01  20973  5 ( 43-46 )     21\n",
       "387  2017-10-01  20579            S     22\n",
       "828  2017-10-02  17173            M     28\n",
       "867  2017-10-02  20973  5 ( 43-46 )     21"
      ]
     },
     "execution_count": 33,
     "metadata": {},
     "output_type": "execute_result"
    }
   ],
   "source": [
    "outlier = train[(train.units> 20)]\n",
    "outlier.head()"
   ]
  },
  {
   "cell_type": "code",
   "execution_count": 34,
   "metadata": {},
   "outputs": [
    {
     "data": {
      "image/png": "[encoded data removed]",
      "text/plain": [
       "<matplotlib.figure.Figure at 0x2af5c908710>"
      ]
     },
     "metadata": {},
     "output_type": "display_data"
    }
   ],
   "source": [
    "plt.boxplot(items['rrp'])\n",
    "plt.show()"
   ]
  },
  {
   "cell_type": "code",
   "execution_count": 35,
   "metadata": {},
   "outputs": [
    {
     "data": {
      "image/png": "[encoded data removed]",
      "text/plain": [
       "<matplotlib.figure.Figure at 0x2af5cae4438>"
      ]
     },
     "metadata": {},
     "output_type": "display_data"
    }
   ],
   "source": [
    "plt.boxplot(items['stock'])\n",
    "plt.show()"
   ]
  },
  {
   "cell_type": "code",
   "execution_count": 36,
   "metadata": {},
   "outputs": [
    {
     "data": {
      "image/png": "[encoded data removed]",
      "text/plain": [
       "<matplotlib.figure.Figure at 0x2af5cb401d0>"
      ]
     },
     "metadata": {},
     "output_type": "display_data"
    }
   ],
   "source": [
    "plt.boxplot(train['units'])\n",
    "plt.show()"
   ]
  }
 ],
 "metadata": {
  "kernelspec": {
   "display_name": "Python 3",
   "language": "python",
   "name": "python3"
  },
  "language_info": {
   "codemirror_mode": {
    "name": "ipython",
    "version": 3
   },
   "file_extension": ".py",
   "mimetype": "text/x-python",
   "name": "python",
   "nbconvert_exporter": "python",
   "pygments_lexer": "ipython3",
   "version": "3.7.1"
  }
 },
 "nbformat": 4,
 "nbformat_minor": 2
}
