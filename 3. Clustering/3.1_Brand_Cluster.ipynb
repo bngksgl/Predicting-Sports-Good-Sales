{
 "cells": [
  {
   "cell_type": "code",
   "execution_count": 23,
   "metadata": {
    "collapsed": true
   },
   "outputs": [],
   "source": [
    "import pandas as pd\n",
    "import numpy as np\n",
    "import csv\n",
    "items=pd.read_csv('items.csv',delimiter='|')\n",
    "items['key']=items['pid'].astype(str) +\" \"+items['size'].astype(str) "
   ]
  },
  {
   "cell_type": "code",
   "execution_count": 24,
   "metadata": {},
   "outputs": [
    {
     "data": {
      "text/html": [
       "<div>\n",
       "<style>\n",
       "    .dataframe thead tr:only-child th {\n",
       "        text-align: right;\n",
       "    }\n",
       "\n",
       "    .dataframe thead th {\n",
       "        text-align: left;\n",
       "    }\n",
       "\n",
       "    .dataframe tbody tr th {\n",
       "        vertical-align: top;\n",
       "    }\n",
       "</style>\n",
       "<table border=\"1\" class=\"dataframe\">\n",
       "  <thead>\n",
       "    <tr style=\"text-align: right;\">\n",
       "      <th></th>\n",
       "      <th>key</th>\n",
       "      <th>brand</th>\n",
       "    </tr>\n",
       "  </thead>\n",
       "  <tbody>\n",
       "    <tr>\n",
       "      <th>0</th>\n",
       "      <td>10000 XL ( 158-170 )</td>\n",
       "      <td>Nike</td>\n",
       "    </tr>\n",
       "    <tr>\n",
       "      <th>1</th>\n",
       "      <td>10001 L</td>\n",
       "      <td>Jako</td>\n",
       "    </tr>\n",
       "    <tr>\n",
       "      <th>2</th>\n",
       "      <td>10003 3 (35-38 )</td>\n",
       "      <td>Jako</td>\n",
       "    </tr>\n",
       "    <tr>\n",
       "      <th>3</th>\n",
       "      <td>10003 4 ( 39-42 )</td>\n",
       "      <td>Jako</td>\n",
       "    </tr>\n",
       "    <tr>\n",
       "      <th>4</th>\n",
       "      <td>10003 5 ( 43-46 )</td>\n",
       "      <td>Jako</td>\n",
       "    </tr>\n",
       "  </tbody>\n",
       "</table>\n",
       "</div>"
      ],
      "text/plain": [
       "                    key brand\n",
       "0  10000 XL ( 158-170 )  Nike\n",
       "1               10001 L  Jako\n",
       "2      10003 3 (35-38 )  Jako\n",
       "3     10003 4 ( 39-42 )  Jako\n",
       "4     10003 5 ( 43-46 )  Jako"
      ]
     },
     "execution_count": 24,
     "metadata": {},
     "output_type": "execute_result"
    }
   ],
   "source": [
    "items=items[['key','brand']]\n",
    "items.head()"
   ]
  },
  {
   "cell_type": "code",
   "execution_count": 31,
   "metadata": {
    "collapsed": true
   },
   "outputs": [],
   "source": [
    "items=pd.DataFrame(items)\n",
    "items_Nike=items.loc[items['brand']=='Nike']\n",
    "items_adidas=items.loc[items['brand']=='adidas']\n",
    "items_PUMA=items.loc[items['brand']=='PUMA']\n",
    "items_Jako=items.loc[items['brand']=='Jako']\n",
    "items_other=items.loc[~items['brand'].isin(['Nike','adidas','PUMA','Jako'])]"
   ]
  },
  {
   "cell_type": "code",
   "execution_count": 33,
   "metadata": {
    "collapsed": true
   },
   "outputs": [],
   "source": [
    "items_Nike.to_csv(\"items_Nike.csv\")\n",
    "items_adidas.to_csv(\"items_adidas.csv\")\n",
    "items_PUMA.to_csv(\"items_PUMA.csv\")\n",
    "items_Jako.to_csv(\"items_Jako.csv\")\n",
    "items_other.to_csv(\"items_other.csv\")"
   ]
  }
 ],
 "metadata": {
  "kernelspec": {
   "display_name": "Python 2",
   "language": "python",
   "name": "python2"
  },
  "language_info": {
   "codemirror_mode": {
    "name": "ipython",
    "version": 2
   },
   "file_extension": ".py",
   "mimetype": "text/x-python",
   "name": "python",
   "nbconvert_exporter": "python",
   "pygments_lexer": "ipython2",
   "version": "2.7.14"
  }
 },
 "nbformat": 4,
 "nbformat_minor": 2
}
