{
 "cells": [
  {
   "cell_type": "markdown",
   "metadata": {},
   "source": [
    "## Category_cluster"
   ]
  },
  {
   "cell_type": "code",
   "execution_count": 1,
   "metadata": {
    "collapsed": false
   },
   "outputs": [],
   "source": [
    "import pandas as pd \n",
    "item=pd.read_csv('items.csv',delimiter='|') "
   ]
  },
  {
   "cell_type": "code",
   "execution_count": 2,
   "metadata": {
    "collapsed": true
   },
   "outputs": [],
   "source": [
    "item['key']=item['pid'].astype(str) +\" \"+item['size'].astype(str)"
   ]
  },
  {
   "cell_type": "code",
   "execution_count": 4,
   "metadata": {
    "collapsed": false
   },
   "outputs": [
    {
     "name": "stdout",
     "output_type": "stream",
     "text": [
      "[ 1 15  9]\n",
      "[ 7 24 33 10 18 37  2 16 36 30]\n"
     ]
    }
   ],
   "source": [
    "print(item['mainCategory'].unique())\n",
    "print(item['category'].unique())"
   ]
  },
  {
   "cell_type": "markdown",
   "metadata": {},
   "source": [
    "### clustering by mainCateory"
   ]
  },
  {
   "cell_type": "code",
   "execution_count": 5,
   "metadata": {
    "collapsed": false
   },
   "outputs": [],
   "source": [
    "mainCategory_1=item.loc[item['mainCategory'] == 1]\n",
    "cluster1=mainCategory_1[['key','mainCategory']]\n",
    "\n",
    "mainCategory_15=item.loc[item['mainCategory'] == 15]\n",
    "cluster2=mainCategory_15[['key','mainCategory']]\n",
    "\n",
    "mainCategory_9=item.loc[item['mainCategory'] == 9]\n",
    "cluster3=mainCategory_9[['key','mainCategory']]"
   ]
  },
  {
   "cell_type": "code",
   "execution_count": 8,
   "metadata": {
    "collapsed": false
   },
   "outputs": [
    {
     "name": "stdout",
     "output_type": "stream",
     "text": [
      "(9605, 2)\n",
      "(1134, 2)\n",
      "(2085, 2)\n"
     ]
    }
   ],
   "source": [
    "print(cluster1.shape)\n",
    "print(cluster2.shape)\n",
    "print(cluster3.shape)"
   ]
  },
  {
   "cell_type": "code",
   "execution_count": 9,
   "metadata": {
    "collapsed": true
   },
   "outputs": [],
   "source": [
    "cluster1.to_csv('category_cluster1.csv')\n",
    "cluster2.to_csv('category_cluster2.csv')\n",
    "cluster3.to_csv('category_cluster3.csv')"
   ]
  }
 ],
 "metadata": {
  "kernelspec": {
   "display_name": "Python 3",
   "language": "python",
   "name": "python3"
  },
  "language_info": {
   "codemirror_mode": {
    "name": "ipython",
    "version": 3
   },
   "file_extension": ".py",
   "mimetype": "text/x-python",
   "name": "python",
   "nbconvert_exporter": "python",
   "pygments_lexer": "ipython3",
   "version": "3.6.0"
  }
 },
 "nbformat": 4,
 "nbformat_minor": 2
}
