{
 "cells": [
  {
   "cell_type": "code",
   "execution_count": 1,
   "metadata": {
    "collapsed": true
   },
   "outputs": [],
   "source": [
    "import pandas as pd\n",
    "from sklearn import metrics\n",
    "from sklearn.metrics import pairwise_distances\n",
    "from sklearn.cluster import KMeans\n",
    "data=pd.read_csv('data_for_cluster_flat.csv')\n"
   ]
  },
  {
   "cell_type": "markdown",
   "metadata": {},
   "source": [
    "# Clutering :Kmeans"
   ]
  },
  {
   "cell_type": "code",
   "execution_count": 2,
   "metadata": {
    "collapsed": true
   },
   "outputs": [],
   "source": [
    "data1=data.drop(['key'],axis=1)\n",
    "clusterer = KMeans(7, random_state=10)\n",
    "data1['labels']= clusterer.fit_predict(data1)"
   ]
  },
  {
   "cell_type": "code",
   "execution_count": 4,
   "metadata": {},
   "outputs": [
    {
     "name": "stdout",
     "output_type": "stream",
     "text": [
      "[3 5 0 6 1 2 4]\n"
     ]
    }
   ],
   "source": [
    "data1\n",
    "print(data1['labels'].unique())"
   ]
  },
  {
   "cell_type": "code",
   "execution_count": 5,
   "metadata": {
    "collapsed": true
   },
   "outputs": [],
   "source": [
    "#data=pd.DataFrame(data)\n",
    "#data1=pd.DataFrame(data1)\n",
    "data3=pd.merge(data,data1)"
   ]
  },
  {
   "cell_type": "markdown",
   "metadata": {},
   "source": [
    "# 7 tables based on clustering"
   ]
  },
  {
   "cell_type": "code",
   "execution_count": 7,
   "metadata": {},
   "outputs": [
    {
     "data": {
      "text/html": [
       "<div>\n",
       "<style>\n",
       "    .dataframe thead tr:only-child th {\n",
       "        text-align: right;\n",
       "    }\n",
       "\n",
       "    .dataframe thead th {\n",
       "        text-align: left;\n",
       "    }\n",
       "\n",
       "    .dataframe tbody tr th {\n",
       "        vertical-align: top;\n",
       "    }\n",
       "</style>\n",
       "<table border=\"1\" class=\"dataframe\">\n",
       "  <thead>\n",
       "    <tr style=\"text-align: right;\">\n",
       "      <th></th>\n",
       "      <th>Unnamed: 0</th>\n",
       "      <th>key</th>\n",
       "      <th>rrp</th>\n",
       "      <th>new size_L</th>\n",
       "      <th>new size_M</th>\n",
       "      <th>new size_S</th>\n",
       "      <th>new size_XL</th>\n",
       "      <th>color_blau</th>\n",
       "      <th>color_rot</th>\n",
       "      <th>color_schwarz</th>\n",
       "      <th>...</th>\n",
       "      <th>2017-12-23</th>\n",
       "      <th>2017-12-24</th>\n",
       "      <th>2017-12-25</th>\n",
       "      <th>2017-12-26</th>\n",
       "      <th>2017-12-27</th>\n",
       "      <th>2017-12-28</th>\n",
       "      <th>2017-12-29</th>\n",
       "      <th>2017-12-30</th>\n",
       "      <th>2017-12-31</th>\n",
       "      <th>labels</th>\n",
       "    </tr>\n",
       "  </thead>\n",
       "  <tbody>\n",
       "    <tr>\n",
       "      <th>3654</th>\n",
       "      <td>3654</td>\n",
       "      <td>11089 XL</td>\n",
       "      <td>25.33</td>\n",
       "      <td>0</td>\n",
       "      <td>0</td>\n",
       "      <td>0</td>\n",
       "      <td>1</td>\n",
       "      <td>0</td>\n",
       "      <td>0</td>\n",
       "      <td>0</td>\n",
       "      <td>...</td>\n",
       "      <td>0.0</td>\n",
       "      <td>0.0</td>\n",
       "      <td>0.0</td>\n",
       "      <td>0.0</td>\n",
       "      <td>0.0</td>\n",
       "      <td>0.0</td>\n",
       "      <td>0.0</td>\n",
       "      <td>0.0</td>\n",
       "      <td>0.0</td>\n",
       "      <td>0</td>\n",
       "    </tr>\n",
       "    <tr>\n",
       "      <th>3655</th>\n",
       "      <td>3655</td>\n",
       "      <td>11095 XL</td>\n",
       "      <td>25.33</td>\n",
       "      <td>0</td>\n",
       "      <td>0</td>\n",
       "      <td>0</td>\n",
       "      <td>1</td>\n",
       "      <td>0</td>\n",
       "      <td>0</td>\n",
       "      <td>0</td>\n",
       "      <td>...</td>\n",
       "      <td>0.0</td>\n",
       "      <td>0.0</td>\n",
       "      <td>0.0</td>\n",
       "      <td>0.0</td>\n",
       "      <td>0.0</td>\n",
       "      <td>0.0</td>\n",
       "      <td>0.0</td>\n",
       "      <td>0.0</td>\n",
       "      <td>0.0</td>\n",
       "      <td>0</td>\n",
       "    </tr>\n",
       "    <tr>\n",
       "      <th>3656</th>\n",
       "      <td>3656</td>\n",
       "      <td>11172 XL</td>\n",
       "      <td>44.38</td>\n",
       "      <td>0</td>\n",
       "      <td>0</td>\n",
       "      <td>0</td>\n",
       "      <td>1</td>\n",
       "      <td>0</td>\n",
       "      <td>0</td>\n",
       "      <td>1</td>\n",
       "      <td>...</td>\n",
       "      <td>0.0</td>\n",
       "      <td>0.0</td>\n",
       "      <td>0.0</td>\n",
       "      <td>0.0</td>\n",
       "      <td>0.0</td>\n",
       "      <td>0.0</td>\n",
       "      <td>0.0</td>\n",
       "      <td>0.0</td>\n",
       "      <td>0.0</td>\n",
       "      <td>0</td>\n",
       "    </tr>\n",
       "    <tr>\n",
       "      <th>3657</th>\n",
       "      <td>3657</td>\n",
       "      <td>11198 XL</td>\n",
       "      <td>44.38</td>\n",
       "      <td>0</td>\n",
       "      <td>0</td>\n",
       "      <td>0</td>\n",
       "      <td>1</td>\n",
       "      <td>1</td>\n",
       "      <td>0</td>\n",
       "      <td>0</td>\n",
       "      <td>...</td>\n",
       "      <td>0.0</td>\n",
       "      <td>0.0</td>\n",
       "      <td>0.0</td>\n",
       "      <td>0.0</td>\n",
       "      <td>0.0</td>\n",
       "      <td>0.0</td>\n",
       "      <td>0.0</td>\n",
       "      <td>0.0</td>\n",
       "      <td>0.0</td>\n",
       "      <td>0</td>\n",
       "    </tr>\n",
       "    <tr>\n",
       "      <th>3658</th>\n",
       "      <td>3658</td>\n",
       "      <td>11241 XL</td>\n",
       "      <td>44.38</td>\n",
       "      <td>0</td>\n",
       "      <td>0</td>\n",
       "      <td>0</td>\n",
       "      <td>1</td>\n",
       "      <td>0</td>\n",
       "      <td>0</td>\n",
       "      <td>1</td>\n",
       "      <td>...</td>\n",
       "      <td>0.0</td>\n",
       "      <td>0.0</td>\n",
       "      <td>0.0</td>\n",
       "      <td>0.0</td>\n",
       "      <td>0.0</td>\n",
       "      <td>1.0</td>\n",
       "      <td>0.0</td>\n",
       "      <td>1.0</td>\n",
       "      <td>0.0</td>\n",
       "      <td>0</td>\n",
       "    </tr>\n",
       "  </tbody>\n",
       "</table>\n",
       "<p>5 rows × 116 columns</p>\n",
       "</div>"
      ],
      "text/plain": [
       "      Unnamed: 0       key    rrp  new size_L  new size_M  new size_S  \\\n",
       "3654        3654  11089 XL  25.33           0           0           0   \n",
       "3655        3655  11095 XL  25.33           0           0           0   \n",
       "3656        3656  11172 XL  44.38           0           0           0   \n",
       "3657        3657  11198 XL  44.38           0           0           0   \n",
       "3658        3658  11241 XL  44.38           0           0           0   \n",
       "\n",
       "      new size_XL  color_blau  color_rot  color_schwarz   ...    2017-12-23  \\\n",
       "3654            1           0          0              0   ...           0.0   \n",
       "3655            1           0          0              0   ...           0.0   \n",
       "3656            1           0          0              1   ...           0.0   \n",
       "3657            1           1          0              0   ...           0.0   \n",
       "3658            1           0          0              1   ...           0.0   \n",
       "\n",
       "      2017-12-24  2017-12-25  2017-12-26  2017-12-27  2017-12-28  2017-12-29  \\\n",
       "3654         0.0         0.0         0.0         0.0         0.0         0.0   \n",
       "3655         0.0         0.0         0.0         0.0         0.0         0.0   \n",
       "3656         0.0         0.0         0.0         0.0         0.0         0.0   \n",
       "3657         0.0         0.0         0.0         0.0         0.0         0.0   \n",
       "3658         0.0         0.0         0.0         0.0         1.0         0.0   \n",
       "\n",
       "      2017-12-30  2017-12-31  labels  \n",
       "3654         0.0         0.0       0  \n",
       "3655         0.0         0.0       0  \n",
       "3656         0.0         0.0       0  \n",
       "3657         0.0         0.0       0  \n",
       "3658         1.0         0.0       0  \n",
       "\n",
       "[5 rows x 116 columns]"
      ]
     },
     "execution_count": 7,
     "metadata": {},
     "output_type": "execute_result"
    }
   ],
   "source": [
    "data3=pd.DataFrame(data3)\n",
    "dataset0=data3.loc[data3['labels'] == 0]\n",
    "dataset1=data3.loc[data3['labels'] == 1]\n",
    "dataset2=data3.loc[data3['labels'] == 2]\n",
    "dataset3=data3.loc[data3['labels'] == 3]\n",
    "dataset4=data3.loc[data3['labels'] == 4]\n",
    "dataset5=data3.loc[data3['labels'] == 5]\n",
    "dataset6=data3.loc[data3['labels'] == 6]\n"
   ]
  },
  {
   "cell_type": "code",
   "execution_count": 47,
   "metadata": {
    "collapsed": true
   },
   "outputs": [],
   "source": [
    "dataset0.to_csv(\"dataset_0.csv\")\n",
    "dataset1.to_csv(\"dataset_1.csv\")\n",
    "dataset2.to_csv(\"dataset_2.csv\")\n",
    "dataset3.to_csv(\"dataset_3.csv\")\n",
    "dataset4.to_csv(\"dataset_4.csv\")\n",
    "dataset5.to_csv(\"dataset_5.csv\")\n",
    "dataset6.to_csv(\"dataset_6.csv\")"
   ]
  }
 ],
 "metadata": {
  "kernelspec": {
   "display_name": "Python 2",
   "language": "python",
   "name": "python2"
  },
  "language_info": {
   "codemirror_mode": {
    "name": "ipython",
    "version": 2
   },
   "file_extension": ".py",
   "mimetype": "text/x-python",
   "name": "python",
   "nbconvert_exporter": "python",
   "pygments_lexer": "ipython2",
   "version": "2.7.14"
  }
 },
 "nbformat": 4,
 "nbformat_minor": 2
}
