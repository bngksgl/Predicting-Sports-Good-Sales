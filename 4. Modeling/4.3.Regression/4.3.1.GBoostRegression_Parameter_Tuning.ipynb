{
 "cells": [
  {
   "cell_type": "markdown",
   "metadata": {},
   "source": [
    "## GBoostRegression - Parameter Tuning"
   ]
  },
  {
   "cell_type": "code",
   "execution_count": 1,
   "metadata": {
    "collapsed": false
   },
   "outputs": [],
   "source": [
    "import pandas as pd \n",
    "data1=pd.read_csv('integrated_data.csv')\n",
    "cluster_time=pd.read_csv('time_cluster_bg.csv')"
   ]
  },
  {
   "cell_type": "code",
   "execution_count": 2,
   "metadata": {
    "collapsed": false
   },
   "outputs": [],
   "source": [
    "# assign training data with cluster label\n",
    "data=pd.merge(data1,cluster_time[['key','clust_7']],on='key',how='left')\n",
    "data=data.fillna(8) # assign cluster 1"
   ]
  },
  {
   "cell_type": "code",
   "execution_count": 3,
   "metadata": {
    "collapsed": true
   },
   "outputs": [],
   "source": [
    "# split train & test\n",
    "df_train_data=data[data.month !=1]\n",
    "df_test_data=data[data.month ==1 ] \n",
    "df_test_data=df_test_data.reset_index(drop=True)"
   ]
  },
  {
   "cell_type": "code",
   "execution_count": 4,
   "metadata": {
    "collapsed": false
   },
   "outputs": [],
   "source": [
    "# 7 train clusters\n",
    "df_train_data0=df_train_data[df_train_data.clust_7 ==1] \n",
    "df_train_data1=df_train_data[df_train_data.clust_7 ==2] \n",
    "df_train_data2=df_train_data[df_train_data.clust_7 ==3] \n",
    "df_train_data3=df_train_data[df_train_data.clust_7 ==4] \n",
    "df_train_data4=df_train_data[df_train_data.clust_7 ==5] \n",
    "df_train_data5=df_train_data[df_train_data.clust_7 ==6] \n",
    "df_train_data6=df_train_data[df_train_data.clust_7 ==7] \n",
    "df_train_data7=df_train_data[df_train_data.clust_7 ==8 ] \n",
    "\n",
    "#7 test clusters\n",
    "df_test_data0=df_test_data[df_test_data.clust_7 ==1] \n",
    "df_test_data1=df_test_data[df_test_data.clust_7 ==2]\n",
    "df_test_data2=df_test_data[df_test_data.clust_7 ==3] \n",
    "df_test_data3=df_test_data[df_test_data.clust_7 ==4]\n",
    "df_test_data4=df_test_data[df_test_data.clust_7 ==5]\n",
    "df_test_data5=df_test_data[df_test_data.clust_7 ==6]\n",
    "df_test_data6=df_test_data[df_test_data.clust_7 ==7]\n",
    "df_test_data7=df_test_data[df_test_data.clust_7 ==8] \n"
   ]
  },
  {
   "cell_type": "code",
   "execution_count": 5,
   "metadata": {
    "collapsed": false
   },
   "outputs": [],
   "source": [
    "target_train0 = df_train_data0[['units']]\n",
    "data_train0 = df_train_data0.drop(['Unnamed: 0','units','key','date','rrp','weekday','month','day','clust_7','sum_unit'], axis=1)\n",
    "target_test0 = df_test_data0[['units']]\n",
    "data_test0 =df_test_data0.drop(['Unnamed: 0','units','key','date','rrp','weekday','month','day','clust_7','sum_unit'], axis=1)\n",
    "\n",
    "target_train1 = df_train_data1[['units']]\n",
    "data_train1 = df_train_data1.drop(['Unnamed: 0','units','key','date','rrp','weekday','month','day','clust_7','sum_unit'], axis=1)\n",
    "target_test1 = df_test_data1[['units']]\n",
    "data_test1 =df_test_data1.drop(['Unnamed: 0','units','key','date','rrp','weekday','month','day','clust_7','sum_unit'], axis=1)\n",
    "\n",
    "target_train2 = df_train_data2[['units']]\n",
    "data_train2 = df_train_data2.drop(['Unnamed: 0','units','key','date','rrp','weekday','month','day','clust_7','sum_unit'], axis=1)\n",
    "target_test2 = df_test_data2[['units']]\n",
    "data_test2 =df_test_data2.drop(['Unnamed: 0','units','key','date','rrp','weekday','month','day','clust_7','sum_unit'], axis=1)\n",
    "\n",
    "target_train3 = df_train_data3[['units']]\n",
    "data_train3 = df_train_data3.drop(['Unnamed: 0','units','key','date','rrp','weekday','month','day','clust_7','sum_unit'], axis=1)\n",
    "target_test3 = df_test_data3[['units']]\n",
    "data_test3 =df_test_data3.drop(['Unnamed: 0','units','key','date','rrp','weekday','month','day','clust_7','sum_unit'], axis=1)\n",
    "\n",
    "target_train4 = df_train_data4[['units']]\n",
    "data_train4 = df_train_data4.drop(['Unnamed: 0','units','key','date','rrp','weekday','month','day','clust_7','sum_unit'], axis=1)\n",
    "target_test4 = df_test_data4[['units']]\n",
    "data_test4 =df_test_data4.drop(['Unnamed: 0','units','key','date','rrp','weekday','month','day','clust_7','sum_unit'], axis=1)\n",
    "\n",
    "target_train5 = df_train_data5[['units']]\n",
    "data_train5 = df_train_data5.drop(['Unnamed: 0','units','key','date','rrp','weekday','month','day','clust_7','sum_unit'], axis=1)\n",
    "target_test5 = df_test_data5[['units']]\n",
    "data_test5 =df_test_data5.drop(['Unnamed: 0','units','key','date','rrp','weekday','month','day','clust_7','sum_unit'], axis=1)\n",
    "\n",
    "target_train6 = df_train_data6[['units']]\n",
    "data_train6 = df_train_data6.drop(['Unnamed: 0','units','key','date','rrp','weekday','month','day','clust_7','sum_unit'], axis=1)\n",
    "target_test6 = df_test_data6[['units']]\n",
    "data_test6=df_test_data6.drop(['Unnamed: 0','units','key','date','rrp','weekday','month','day','clust_7','sum_unit'], axis=1)\n",
    "\n",
    "target_train6 = df_train_data6[['units']]\n",
    "data_train6 = df_train_data6.drop(['Unnamed: 0','units','key','date','rrp','weekday','month','day','clust_7','sum_unit'], axis=1)\n",
    "target_test6 = df_test_data6[['units']]\n",
    "data_test6=df_test_data6.drop(['Unnamed: 0','units','key','date','rrp','weekday','month','day','clust_7','sum_unit'], axis=1)\n",
    "\n",
    "target_train7 = df_train_data7[['units']]\n",
    "data_train7 = df_train_data7.drop(['Unnamed: 0','units','key','date','rrp','weekday','month','day','clust_7','sum_unit'], axis=1)\n",
    "target_test7 = df_test_data7[['units']]\n",
    "data_test7=df_test_data7.drop(['Unnamed: 0','units','key','date','rrp','weekday','month','day','clust_7','sum_unit'], axis=1)\n",
    "\n"
   ]
  },
  {
   "cell_type": "markdown",
   "metadata": {},
   "source": [
    "### Cluster 6 (364, 26)"
   ]
  },
  {
   "cell_type": "code",
   "execution_count": 8,
   "metadata": {
    "collapsed": false
   },
   "outputs": [
    {
     "name": "stdout",
     "output_type": "stream",
     "text": [
      "{'learning_rate': 0.01, 'max_depth': 15, 'min_samples_split': 10, 'n_estimators': 100}\n"
     ]
    }
   ],
   "source": [
    "# GridSearch: tunning parameter\n",
    "from sklearn import ensemble\n",
    "from sklearn.model_selection import GridSearchCV\n",
    "\n",
    "# Set the parameters by cross-validation\n",
    "parameters6 = [{\"n_estimators\": [100, 500,1000],\n",
    "              \"min_samples_split\": [2, 5,10],\n",
    "              \"max_depth\": [3, 10, 15],\n",
    "              \"learning_rate\": [0.1,0.05,0.01],\n",
    "              }]\n",
    "\n",
    "tree = GridSearchCV(ensemble.GradientBoostingRegressor(), parameters6, cv=5)\n",
    "tree.fit(data_train6, target_train6['units'].ravel())\n",
    "para_best6=tree.best_params_\n",
    "print(para_best6)"
   ]
  },
  {
   "cell_type": "markdown",
   "metadata": {},
   "source": [
    "### Cluster 5 (3640, 26)"
   ]
  },
  {
   "cell_type": "code",
   "execution_count": 10,
   "metadata": {
    "collapsed": false
   },
   "outputs": [
    {
     "name": "stdout",
     "output_type": "stream",
     "text": [
      "{'learning_rate': 0.05, 'max_depth': 3, 'min_samples_split': 2, 'n_estimators': 100}\n"
     ]
    }
   ],
   "source": [
    "# GridSearch: tunning parameter\n",
    "from sklearn import ensemble\n",
    "from sklearn.model_selection import GridSearchCV\n",
    "\n",
    "# Set the parameters by cross-validation\n",
    "parameters5 = [{\"n_estimators\": [100, 500,1000],\n",
    "              \"min_samples_split\": [2, 5,10], \n",
    "              \"max_depth\": [3, 10, 15],\n",
    "              \"learning_rate\": [0.1,0.05,0.01],\n",
    "              }]\n",
    "\n",
    "tree = GridSearchCV(ensemble.GradientBoostingRegressor(), parameters5, cv=5)\n",
    "tree.fit(data_train5, target_train5['units'].ravel())\n",
    "para_best5=tree.best_params_\n",
    "print(para_best5)"
   ]
  },
  {
   "cell_type": "markdown",
   "metadata": {},
   "source": [
    "### Cluster 4 (8463, 26)"
   ]
  },
  {
   "cell_type": "code",
   "execution_count": 11,
   "metadata": {
    "collapsed": false
   },
   "outputs": [
    {
     "name": "stdout",
     "output_type": "stream",
     "text": [
      "{'learning_rate': 0.01, 'max_depth': 10, 'min_samples_split': 5, 'n_estimators': 100}\n"
     ]
    }
   ],
   "source": [
    "# GridSearch: tunning parameter\n",
    "from sklearn import ensemble\n",
    "from sklearn.model_selection import GridSearchCV\n",
    "\n",
    "# Set the parameters by cross-validation\n",
    "parameters4 = [{\"n_estimators\": [100, 500,1000],\n",
    "              \"min_samples_split\":  [2, 5,10],\n",
    "              \"max_depth\": [3, 10, 15],\n",
    "              \"learning_rate\": [0.1,0.05,0.01],\n",
    "              }]\n",
    "\n",
    "tree = GridSearchCV(ensemble.GradientBoostingRegressor(), parameters4, cv=5)\n",
    "tree.fit(data_train4, target_train4['units'].ravel())\n",
    "para_best4=tree.best_params_\n",
    "print(para_best4)"
   ]
  },
  {
   "cell_type": "markdown",
   "metadata": {
    "collapsed": true
   },
   "source": [
    "### Cluster 3 (1001, 26)"
   ]
  },
  {
   "cell_type": "code",
   "execution_count": 12,
   "metadata": {
    "collapsed": false
   },
   "outputs": [
    {
     "name": "stdout",
     "output_type": "stream",
     "text": [
      "{'learning_rate': 0.05, 'max_depth': 3, 'min_samples_split': 10, 'n_estimators': 1000}\n"
     ]
    }
   ],
   "source": [
    "# GridSearch: tunning parameter\n",
    "from sklearn import ensemble\n",
    "from sklearn.model_selection import GridSearchCV\n",
    "\n",
    "# Set the parameters by cross-validation\n",
    "parameters3 = [{\"n_estimators\": [100, 500,1000],\n",
    "              \"min_samples_split\": [2, 5,10],\n",
    "              \"max_depth\": [3, 10, 15],\n",
    "              \"learning_rate\": [0.1,0.05,0.01],\n",
    "              }]\n",
    "\n",
    "tree = GridSearchCV(ensemble.GradientBoostingRegressor(), parameters3, cv=5)\n",
    "tree.fit(data_train3, target_train3['units'].ravel())\n",
    "para_best3=tree.best_params_\n",
    "print(para_best3)"
   ]
  },
  {
   "cell_type": "markdown",
   "metadata": {},
   "source": [
    "### Cluster 2 (25844, 26)"
   ]
  },
  {
   "cell_type": "code",
   "execution_count": 13,
   "metadata": {
    "collapsed": false
   },
   "outputs": [
    {
     "name": "stdout",
     "output_type": "stream",
     "text": [
      "{'learning_rate': 0.05, 'max_depth': 3, 'min_samples_split': 2, 'n_estimators': 500}\n"
     ]
    }
   ],
   "source": [
    "# GridSearch: tunning parameter\n",
    "from sklearn import ensemble\n",
    "from sklearn.model_selection import GridSearchCV\n",
    "\n",
    "# Set the parameters by cross-validation\n",
    "parameters2 = [{\"n_estimators\": [100, 500,1000],\n",
    "              \"min_samples_split\": [2, 5,10],\n",
    "              \"max_depth\": [3, 10, 15],\n",
    "              \"learning_rate\": [0.1,0.05,0.01],\n",
    "              }]\n",
    "\n",
    "tree = GridSearchCV(ensemble.GradientBoostingRegressor(), parameters2, cv=5)\n",
    "tree.fit(data_train2, target_train2['units'].ravel())\n",
    "para_best2=tree.best_params_\n",
    "print(para_best2)"
   ]
  }
 ],
 "metadata": {
  "kernelspec": {
   "display_name": "Python 3",
   "language": "python",
   "name": "python3"
  },
  "language_info": {
   "codemirror_mode": {
    "name": "ipython",
    "version": 3
   },
   "file_extension": ".py",
   "mimetype": "text/x-python",
   "name": "python",
   "nbconvert_exporter": "python",
   "pygments_lexer": "ipython3",
   "version": "3.6.0"
  }
 },
 "nbformat": 4,
 "nbformat_minor": 2
}
