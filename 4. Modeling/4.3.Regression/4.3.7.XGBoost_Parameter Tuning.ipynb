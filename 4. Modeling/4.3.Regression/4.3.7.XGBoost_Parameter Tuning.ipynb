{
 "cells": [
  {
   "cell_type": "markdown",
   "metadata": {},
   "source": [
    "## XGBoost - Parameter Tuning"
   ]
  },
  {
   "cell_type": "code",
   "execution_count": 5,
   "metadata": {
    "collapsed": true
   },
   "outputs": [],
   "source": [
    "import pandas as pd \n",
    "data1=pd.read_csv('integrated_data.csv')\n",
    "cluster_time=pd.read_csv('time_cluster_bg.csv')"
   ]
  },
  {
   "cell_type": "code",
   "execution_count": 6,
   "metadata": {
    "collapsed": true
   },
   "outputs": [],
   "source": [
    "data1=data1.drop(['sum_unit'], axis=1)"
   ]
  },
  {
   "cell_type": "code",
   "execution_count": 7,
   "metadata": {
    "collapsed": true
   },
   "outputs": [],
   "source": [
    "# assign training data with cluster label\n",
    "data=pd.merge(data1,cluster_time[['key','clust_7']],on='key',how='left')\n",
    "data=data.fillna(8) # assign cluster 1"
   ]
  },
  {
   "cell_type": "code",
   "execution_count": 8,
   "metadata": {
    "collapsed": true
   },
   "outputs": [],
   "source": [
    "# split train & test\n",
    "df_train_data=data[data.month !=1]\n",
    "df_test_data=data[data.month ==1 ] \n",
    "df_test_data=df_test_data.reset_index(drop=True)"
   ]
  },
  {
   "cell_type": "code",
   "execution_count": 9,
   "metadata": {
    "collapsed": true
   },
   "outputs": [],
   "source": [
    "# 7 train clusters\n",
    "df_train_data0=df_train_data[df_train_data.clust_7 ==1] \n",
    "df_train_data1=df_train_data[df_train_data.clust_7 ==2] \n",
    "df_train_data2=df_train_data[df_train_data.clust_7 ==3] \n",
    "df_train_data3=df_train_data[df_train_data.clust_7 ==4] \n",
    "df_train_data4=df_train_data[df_train_data.clust_7 ==5] \n",
    "df_train_data5=df_train_data[df_train_data.clust_7 ==6] \n",
    "df_train_data6=df_train_data[df_train_data.clust_7 ==7] \n",
    "\n",
    "#7 test clusters\n",
    "df_test_data0=df_test_data[df_test_data.clust_7 ==1] \n",
    "df_test_data1=df_test_data[df_test_data.clust_7 ==2]\n",
    "df_test_data2=df_test_data[df_test_data.clust_7 ==3] \n",
    "df_test_data3=df_test_data[df_test_data.clust_7 ==4]\n",
    "df_test_data4=df_test_data[df_test_data.clust_7 ==5]\n",
    "df_test_data5=df_test_data[df_test_data.clust_7 ==6]\n",
    "df_test_data6=df_test_data[df_test_data.clust_7 ==7] "
   ]
  },
  {
   "cell_type": "code",
   "execution_count": 12,
   "metadata": {
    "collapsed": true
   },
   "outputs": [],
   "source": [
    "target_train0 = df_train_data0[['units']]\n",
    "data_train0 = df_train_data0.drop(['Unnamed: 0','units','key','date','rrp','weekday','month','day','clust_7'], axis=1)\n",
    "target_test0 = df_test_data0[['units']]\n",
    "data_test0 =df_test_data0.drop(['Unnamed: 0','units','key','date','rrp','weekday','month','day','clust_7'], axis=1)\n",
    "\n",
    "target_train1 = df_train_data1[['units']]\n",
    "data_train1 = df_train_data1.drop(['Unnamed: 0','units','key','date','rrp','weekday','month','day','clust_7'], axis=1)\n",
    "target_test1 = df_test_data1[['units']]\n",
    "data_test1 =df_test_data1.drop(['Unnamed: 0','units','key','date','rrp','weekday','month','day','clust_7'], axis=1)\n",
    "\n",
    "target_train2 = df_train_data2[['units']]\n",
    "data_train2 = df_train_data2.drop(['Unnamed: 0','units','key','date','rrp','weekday','month','day','clust_7'], axis=1)\n",
    "target_test2 = df_test_data2[['units']]\n",
    "data_test2 =df_test_data2.drop(['Unnamed: 0','units','key','date','rrp','weekday','month','day','clust_7'], axis=1)\n",
    "\n",
    "target_train3 = df_train_data3[['units']]\n",
    "data_train3 = df_train_data3.drop(['Unnamed: 0','units','key','date','rrp','weekday','month','day','clust_7'], axis=1)\n",
    "target_test3 = df_test_data3[['units']]\n",
    "data_test3 =df_test_data3.drop(['Unnamed: 0','units','key','date','rrp','weekday','month','day','clust_7'], axis=1)\n",
    "\n",
    "target_train4 = df_train_data4[['units']]\n",
    "data_train4 = df_train_data4.drop(['Unnamed: 0','units','key','date','rrp','weekday','month','day','clust_7'], axis=1)\n",
    "target_test4 = df_test_data4[['units']]\n",
    "data_test4 =df_test_data4.drop(['Unnamed: 0','units','key','date','rrp','weekday','month','day','clust_7'], axis=1)\n",
    "\n",
    "target_train5 = df_train_data5[['units']]\n",
    "data_train5 = df_train_data5.drop(['Unnamed: 0','units','key','date','rrp','weekday','month','day','clust_7'], axis=1)\n",
    "target_test5 = df_test_data5[['units']]\n",
    "data_test5 =df_test_data5.drop(['Unnamed: 0','units','key','date','rrp','weekday','month','day','clust_7'], axis=1)\n",
    "\n",
    "target_train6 = df_train_data6[['units']]\n",
    "data_train6 = df_train_data6.drop(['Unnamed: 0','units','key','date','rrp','weekday','month','day','clust_7'], axis=1)\n",
    "target_test6 = df_test_data6[['units']]\n",
    "data_test6=df_test_data6.drop(['Unnamed: 0','units','key','date','rrp','weekday','month','day','clust_7'], axis=1)\n",
    "\n"
   ]
  },
  {
   "cell_type": "markdown",
   "metadata": {},
   "source": [
    "### cluster 2"
   ]
  },
  {
   "cell_type": "code",
   "execution_count": 27,
   "metadata": {
    "collapsed": false
   },
   "outputs": [
    {
     "name": "stdout",
     "output_type": "stream",
     "text": [
      "Fitting 2 folds for each of 144 candidates, totalling 288 fits\n"
     ]
    },
    {
     "name": "stderr",
     "output_type": "stream",
     "text": [
      "[Parallel(n_jobs=5)]: Done  40 tasks      | elapsed: 16.6min\n",
      "[Parallel(n_jobs=5)]: Done 190 tasks      | elapsed: 82.1min\n",
      "[Parallel(n_jobs=5)]: Done 288 out of 288 | elapsed: 126.5min finished\n"
     ]
    },
    {
     "name": "stdout",
     "output_type": "stream",
     "text": [
      "{'colsample_bytree': 0.7, 'learning_rate': 0.03, 'max_depth': 6, 'min_child_weight': 7, 'n_estimators': 500, 'objective': 'reg:linear', 'silent': 1, 'subsample': 0.7}\n"
     ]
    }
   ],
   "source": [
    "from sklearn import preprocessing\n",
    "import xgboost as xgb\n",
    "from xgboost.sklearn import XGBRegressor\n",
    "#import datetime\n",
    "from sklearn.model_selection import GridSearchCV\n",
    "# Various hyper-parameters to tune\n",
    "xgb2 = XGBRegressor()\n",
    "parameters = {'objective':['reg:linear'],\n",
    "              'learning_rate': [.03, 0.05, .07], #so called `eta` value\n",
    "              'max_depth': [6, 7, 8, 9],\n",
    "              'min_child_weight': [5, 6, 7],\n",
    "              'silent': [1],\n",
    "              'subsample': [0.7,0.8],\n",
    "              'colsample_bytree': [0.7,0.8],\n",
    "              'n_estimators': [500]}\n",
    "xgb_grid2 = GridSearchCV(xgb2,\n",
    "                        parameters,\n",
    "                        cv = 2,\n",
    "                        n_jobs = 5,\n",
    "                        verbose=True)\n",
    "\n",
    "xgb_grid2.fit(data_train1,target_train1)\n",
    "print(xgb_grid2.best_params_)"
   ]
  },
  {
   "cell_type": "markdown",
   "metadata": {},
   "source": [
    "### cluster 3"
   ]
  },
  {
   "cell_type": "code",
   "execution_count": 26,
   "metadata": {
    "collapsed": false
   },
   "outputs": [
    {
     "name": "stdout",
     "output_type": "stream",
     "text": [
      "Fitting 2 folds for each of 144 candidates, totalling 288 fits\n"
     ]
    },
    {
     "name": "stderr",
     "output_type": "stream",
     "text": [
      "[Parallel(n_jobs=5)]: Done  40 tasks      | elapsed:  2.5min\n",
      "[Parallel(n_jobs=5)]: Done 190 tasks      | elapsed: 12.2min\n",
      "[Parallel(n_jobs=5)]: Done 288 out of 288 | elapsed: 18.7min finished\n"
     ]
    },
    {
     "name": "stdout",
     "output_type": "stream",
     "text": [
      "{'colsample_bytree': 0.7, 'learning_rate': 0.03, 'max_depth': 6, 'min_child_weight': 7, 'n_estimators': 500, 'objective': 'reg:linear', 'silent': 1, 'subsample': 0.8}\n"
     ]
    }
   ],
   "source": [
    "from sklearn import preprocessing\n",
    "import xgboost as xgb\n",
    "from xgboost.sklearn import XGBRegressor\n",
    "#import datetime\n",
    "from sklearn.model_selection import GridSearchCV\n",
    "# Various hyper-parameters to tune\n",
    "xgb3 = XGBRegressor()\n",
    "parameters = {'objective':['reg:linear'],\n",
    "              'learning_rate': [.03, 0.05, .07], #so called `eta` value\n",
    "              'max_depth': [6, 7, 8, 9],\n",
    "              'min_child_weight': [5, 6, 7],\n",
    "              'silent': [1],\n",
    "              'subsample': [0.7,0.8],\n",
    "              'colsample_bytree': [0.7,0.8],\n",
    "              'n_estimators': [500]}\n",
    "\n",
    "xgb_grid3 = GridSearchCV(xgb3,\n",
    "                        parameters,\n",
    "                        cv = 2,\n",
    "                        n_jobs = 5,\n",
    "                        verbose=True)\n",
    "\n",
    "xgb_grid3.fit(data_train2,target_train2)\n",
    "print(xgb_grid3.best_params_)"
   ]
  },
  {
   "cell_type": "code",
   "execution_count": 28,
   "metadata": {
    "collapsed": false
   },
   "outputs": [
    {
     "data": {
      "text/plain": [
       "{'colsample_bytree': 0.7,\n",
       " 'learning_rate': 0.03,\n",
       " 'max_depth': 6,\n",
       " 'min_child_weight': 7,\n",
       " 'n_estimators': 500,\n",
       " 'objective': 'reg:linear',\n",
       " 'silent': 1,\n",
       " 'subsample': 0.8}"
      ]
     },
     "execution_count": 28,
     "metadata": {},
     "output_type": "execute_result"
    }
   ],
   "source": [
    "para3=xgb_grid3.best_params_\n",
    "para3"
   ]
  },
  {
   "cell_type": "markdown",
   "metadata": {},
   "source": [
    "### cluster 4"
   ]
  },
  {
   "cell_type": "code",
   "execution_count": 22,
   "metadata": {
    "collapsed": false
   },
   "outputs": [
    {
     "name": "stdout",
     "output_type": "stream",
     "text": [
      "Fitting 2 folds for each of 144 candidates, totalling 288 fits\n"
     ]
    },
    {
     "name": "stderr",
     "output_type": "stream",
     "text": [
      "[Parallel(n_jobs=5)]: Done  40 tasks      | elapsed:    6.2s\n",
      "[Parallel(n_jobs=5)]: Done 190 tasks      | elapsed:   29.0s\n",
      "[Parallel(n_jobs=5)]: Done 288 out of 288 | elapsed:   44.9s finished\n"
     ]
    },
    {
     "name": "stdout",
     "output_type": "stream",
     "text": [
      "{'colsample_bytree': 0.8, 'learning_rate': 0.03, 'max_depth': 7, 'min_child_weight': 6, 'n_estimators': 500, 'objective': 'reg:linear', 'silent': 1, 'subsample': 0.8}\n"
     ]
    }
   ],
   "source": [
    "from sklearn import preprocessing\n",
    "import xgboost as xgb\n",
    "from xgboost.sklearn import XGBRegressor\n",
    "#import datetime\n",
    "from sklearn.model_selection import GridSearchCV\n",
    "# Various hyper-parameters to tune\n",
    "xgb4 = XGBRegressor()\n",
    "parameters = {'objective':['reg:linear'],\n",
    "              'learning_rate': [.03, 0.05, .07], #so called `eta` value\n",
    "              'max_depth': [6, 7, 8, 9],\n",
    "              'min_child_weight': [5, 6, 7],\n",
    "              'silent': [1],\n",
    "              'subsample': [0.7,0.8],\n",
    "              'colsample_bytree': [0.7,0.8],\n",
    "              'n_estimators': [500]}\n",
    "xgb_grid4 = GridSearchCV(xgb4,\n",
    "                        parameters,\n",
    "                        cv = 2,\n",
    "                        n_jobs = 5,\n",
    "                        verbose=True)\n",
    "\n",
    "xgb_grid4.fit(data_train3,target_train3)\n",
    "print(xgb_grid4.best_params_)"
   ]
  },
  {
   "cell_type": "code",
   "execution_count": 24,
   "metadata": {
    "collapsed": false
   },
   "outputs": [
    {
     "data": {
      "text/plain": [
       "{'colsample_bytree': 0.8,\n",
       " 'learning_rate': 0.03,\n",
       " 'max_depth': 7,\n",
       " 'min_child_weight': 6,\n",
       " 'n_estimators': 500,\n",
       " 'objective': 'reg:linear',\n",
       " 'silent': 1,\n",
       " 'subsample': 0.8}"
      ]
     },
     "execution_count": 24,
     "metadata": {},
     "output_type": "execute_result"
    }
   ],
   "source": [
    "para4=xgb_grid4.best_params_\n",
    "para4"
   ]
  },
  {
   "cell_type": "markdown",
   "metadata": {},
   "source": [
    "### cluster 5"
   ]
  },
  {
   "cell_type": "code",
   "execution_count": 25,
   "metadata": {
    "collapsed": false
   },
   "outputs": [
    {
     "name": "stdout",
     "output_type": "stream",
     "text": [
      "Fitting 2 folds for each of 144 candidates, totalling 288 fits\n"
     ]
    },
    {
     "name": "stderr",
     "output_type": "stream",
     "text": [
      "[Parallel(n_jobs=5)]: Done  40 tasks      | elapsed:   53.4s\n",
      "[Parallel(n_jobs=5)]: Done 190 tasks      | elapsed:  4.2min\n",
      "[Parallel(n_jobs=5)]: Done 288 out of 288 | elapsed:  6.3min finished\n"
     ]
    },
    {
     "name": "stdout",
     "output_type": "stream",
     "text": [
      "{'colsample_bytree': 0.7, 'learning_rate': 0.03, 'max_depth': 6, 'min_child_weight': 7, 'n_estimators': 500, 'objective': 'reg:linear', 'silent': 1, 'subsample': 0.8}\n"
     ]
    }
   ],
   "source": [
    "from sklearn import preprocessing\n",
    "import xgboost as xgb\n",
    "from xgboost.sklearn import XGBRegressor\n",
    "#import datetime\n",
    "from sklearn.model_selection import GridSearchCV\n",
    "# Various hyper-parameters to tune\n",
    "xgb5 = XGBRegressor()\n",
    "parameters = {'objective':['reg:linear'],\n",
    "              'learning_rate': [.03, 0.05, .07], #so called `eta` value\n",
    "              'max_depth': [6, 7, 8, 9],\n",
    "              'min_child_weight': [5, 6, 7],\n",
    "              'silent': [1],\n",
    "              'subsample': [0.7,0.8],\n",
    "              'colsample_bytree': [0.7,0.8],\n",
    "              'n_estimators': [500]}\n",
    "\n",
    "xgb_grid5 = GridSearchCV(xgb5,\n",
    "                        parameters,\n",
    "                        cv = 2,\n",
    "                        n_jobs = 5,\n",
    "                        verbose=True)\n",
    "\n",
    "xgb_grid5.fit(data_train4,target_train4)\n",
    "print(xgb_grid5.best_params_)"
   ]
  },
  {
   "cell_type": "code",
   "execution_count": null,
   "metadata": {
    "collapsed": true
   },
   "outputs": [],
   "source": [
    "para5=xgb_grid5.best_params_\n",
    "para5"
   ]
  },
  {
   "cell_type": "markdown",
   "metadata": {},
   "source": [
    "### cluster 6"
   ]
  },
  {
   "cell_type": "code",
   "execution_count": 10,
   "metadata": {
    "collapsed": false
   },
   "outputs": [],
   "source": [
    "from sklearn import preprocessing\n",
    "import xgboost as xgb\n",
    "from xgboost.sklearn import XGBRegressor\n",
    "#import datetime\n",
    "from sklearn.model_selection import GridSearchCV\n",
    "# Various hyper-parameters to tune\n",
    "xgb6 = XGBRegressor()\n",
    "parameters = {'objective':['reg:linear'],\n",
    "              'learning_rate': [.03, 0.05, .07], #so called `eta` value\n",
    "              'max_depth': [6, 7, 8, 9],\n",
    "              'min_child_weight': [5, 6, 7],\n",
    "              'silent': [1],\n",
    "              'subsample': [0.7,0.8],\n",
    "              'colsample_bytree': [0.7,0.8],\n",
    "              'n_estimators': [500]}\n",
    "\n",
    "xgb_grid6 = GridSearchCV(xgb6,\n",
    "                        parameters,\n",
    "                        cv = 2,\n",
    "                        n_jobs = 5,\n",
    "                        verbose=True)\n",
    "\n",
    "xgb_grid6.fit(data_train5,target_train5)"
   ]
  },
  {
   "cell_type": "code",
   "execution_count": 21,
   "metadata": {
    "collapsed": false
   },
   "outputs": [
    {
     "data": {
      "text/plain": [
       "{'colsample_bytree': 0.8,\n",
       " 'learning_rate': 0.03,\n",
       " 'max_depth': 6,\n",
       " 'min_child_weight': 7,\n",
       " 'n_estimators': 500,\n",
       " 'objective': 'reg:linear',\n",
       " 'silent': 1,\n",
       " 'subsample': 0.7}"
      ]
     },
     "execution_count": 21,
     "metadata": {},
     "output_type": "execute_result"
    }
   ],
   "source": [
    "para6=xgb_grid6.best_params_\n",
    "para6"
   ]
  },
  {
   "cell_type": "markdown",
   "metadata": {},
   "source": [
    "### cluster 7"
   ]
  },
  {
   "cell_type": "code",
   "execution_count": 13,
   "metadata": {
    "collapsed": false
   },
   "outputs": [
    {
     "name": "stdout",
     "output_type": "stream",
     "text": [
      "Fitting 2 folds for each of 144 candidates, totalling 288 fits\n"
     ]
    },
    {
     "name": "stderr",
     "output_type": "stream",
     "text": [
      "[Parallel(n_jobs=5)]: Done  40 tasks      | elapsed:    2.0s\n",
      "[Parallel(n_jobs=5)]: Done 190 tasks      | elapsed:    9.6s\n",
      "[Parallel(n_jobs=5)]: Done 288 out of 288 | elapsed:   14.8s finished\n"
     ]
    },
    {
     "name": "stdout",
     "output_type": "stream",
     "text": [
      "{'colsample_bytree': 0.8, 'learning_rate': 0.03, 'max_depth': 9, 'min_child_weight': 6, 'n_estimators': 500, 'objective': 'reg:linear', 'silent': 1, 'subsample': 0.7}\n"
     ]
    }
   ],
   "source": [
    "from sklearn import preprocessing\n",
    "import xgboost as xgb\n",
    "from xgboost.sklearn import XGBRegressor\n",
    "#import datetime\n",
    "from sklearn.model_selection import GridSearchCV\n",
    "# Various hyper-parameters to tune\n",
    "xgb7 = XGBRegressor()\n",
    "parameters = {'objective':['reg:linear'],\n",
    "              'learning_rate': [.03, 0.05, .07], #so called `eta` value\n",
    "              'max_depth': [6, 7, 8, 9],\n",
    "              'min_child_weight': [5, 6, 7],\n",
    "              'silent': [1],\n",
    "              'subsample': [0.7,0.8],\n",
    "              'colsample_bytree': [0.7,0.8],\n",
    "              'n_estimators': [500]}\n",
    "\n",
    "xgb_grid7 = GridSearchCV(xgb7,\n",
    "                        parameters,\n",
    "                        cv = 2,\n",
    "                        n_jobs = 5,\n",
    "                        verbose=True)\n",
    "\n",
    "xgb_grid7.fit(data_train6,target_train6)\n",
    "print(xgb_grid7.best_params_)"
   ]
  },
  {
   "cell_type": "code",
   "execution_count": 14,
   "metadata": {
    "collapsed": true
   },
   "outputs": [],
   "source": [
    "para7=xgb_grid7.best_params_"
   ]
  },
  {
   "cell_type": "code",
   "execution_count": 15,
   "metadata": {
    "collapsed": false
   },
   "outputs": [
    {
     "data": {
      "text/plain": [
       "{'colsample_bytree': 0.8,\n",
       " 'learning_rate': 0.03,\n",
       " 'max_depth': 9,\n",
       " 'min_child_weight': 6,\n",
       " 'n_estimators': 500,\n",
       " 'objective': 'reg:linear',\n",
       " 'silent': 1,\n",
       " 'subsample': 0.7}"
      ]
     },
     "execution_count": 15,
     "metadata": {},
     "output_type": "execute_result"
    }
   ],
   "source": [
    "para7"
   ]
  }
 ],
 "metadata": {
  "kernelspec": {
   "display_name": "Python 3",
   "language": "python",
   "name": "python3"
  },
  "language_info": {
   "codemirror_mode": {
    "name": "ipython",
    "version": 3
   },
   "file_extension": ".py",
   "mimetype": "text/x-python",
   "name": "python",
   "nbconvert_exporter": "python",
   "pygments_lexer": "ipython3",
   "version": "3.6.0"
  }
 },
 "nbformat": 4,
 "nbformat_minor": 2
}
